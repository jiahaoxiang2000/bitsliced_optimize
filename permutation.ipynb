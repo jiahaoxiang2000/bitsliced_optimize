{
 "cells": [
  {
   "cell_type": "markdown",
   "metadata": {},
   "source": [
    "## Permutation\n",
    "\n",
    "The permutation optime is base on the the Permutation Primitive Operation (PPO) is defined as:\n",
    "$\\begin{equation}\n",
    "    PPO(R,p,m)=  (R \\ggg  p) \\land m\n",
    "\\end{equation}$\n",
    "In this equation, $R$ represents the operation register on the bitsliced representation, $\\ggg$ denotes the right cyclic shift operation, $p$ is the number of shifts, $\\land$ is the bitwise AND operation, and $m$ is the mask."
   ]
  },
  {
   "cell_type": "code",
   "execution_count": 2,
   "metadata": {},
   "outputs": [
    {
     "name": "stdout",
     "output_type": "stream",
     "text": [
      "[0, 4, 13, 7, 9, 3, 12, 0, 3, 5, 10, 6, 10, 6, 11, 13]\n"
     ]
    }
   ],
   "source": [
    "# let use the tau permutation to do the example for explanation.\n",
    "tau = [0,11,6,13,10,1,12,7,5,14,3,8,15,4,9,2]\n",
    "# the right cyclic shift tau\n",
    "def right_cyclic_shift(tau : list):\n",
    "    shift = []\n",
    "    for i in range(len(tau)):\n",
    "        if tau.index(i) >= i:\n",
    "            shift.append(tau.index(i) - i)\n",
    "        else:\n",
    "            shift.append(len(tau) - i + tau.index(i))\n",
    "    return shift\n",
    "tau_shift = right_cyclic_shift(tau)\n",
    "print(tau_shift)"
   ]
  },
  {
   "cell_type": "markdown",
   "metadata": {},
   "source": []
  }
 ],
 "metadata": {
  "kernelspec": {
   "display_name": "misc",
   "language": "python",
   "name": "python3"
  },
  "language_info": {
   "codemirror_mode": {
    "name": "ipython",
    "version": 3
   },
   "file_extension": ".py",
   "mimetype": "text/x-python",
   "name": "python",
   "nbconvert_exporter": "python",
   "pygments_lexer": "ipython3",
   "version": "3.11.9"
  }
 },
 "nbformat": 4,
 "nbformat_minor": 2
}
