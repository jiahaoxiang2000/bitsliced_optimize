{
 "cells": [
  {
   "cell_type": "code",
   "execution_count": 23,
   "metadata": {},
   "outputs": [
    {
     "name": "stdout",
     "output_type": "stream",
     "text": [
      "[1 0 0 0 0 0 0 0 0 0 0 0 0 0 0 0]\n",
      "[0 0 0 0 0 1 0 0 0 0 0 0 0 0 0 0]\n",
      "[0 0 0 0 0 0 0 0 0 0 1 0 0 0 0 0]\n",
      "[0 0 0 0 0 0 0 0 0 0 0 0 0 0 0 1]\n",
      "[-------------------------------]\n",
      "[0 0 0 0 1 0 0 0 0 0 0 0 0 0 0 0]\n",
      "[0 0 0 0 0 0 0 0 0 1 0 0 0 0 0 0]\n",
      "[0 0 0 0 0 0 0 0 0 0 0 0 0 0 1 0]\n",
      "[0 0 0 1 0 0 0 0 0 0 0 0 0 0 0 0]\n",
      "[-------------------------------]\n",
      "[0 0 0 0 0 0 0 0 1 0 0 0 0 0 0 0]\n",
      "[0 0 0 0 0 0 0 0 0 0 0 0 0 1 0 0]\n",
      "[0 0 1 0 0 0 0 0 0 0 0 0 0 0 0 0]\n",
      "[0 0 0 0 0 0 0 1 0 0 0 0 0 0 0 0]\n",
      "[-------------------------------]\n",
      "[0 0 0 0 0 0 0 0 0 0 0 0 1 0 0 0]\n",
      "[0 1 0 0 0 0 0 0 0 0 0 0 0 0 0 0]\n",
      "[0 0 0 0 0 0 1 0 0 0 0 0 0 0 0 0]\n",
      "[0 0 0 0 0 0 0 0 0 0 0 1 0 0 0 0]\n",
      "(0, 5, 10, 15, 4, 9, 14, 3, 8, 13, 2, 7, 12, 1, 6, 11)\n"
     ]
    }
   ],
   "source": [
    "# use the sage math, the p is matrix, p 16*16 identify matrix compose by the p_1,p_2,p_3,p_4. the p_1 is 4*16 matrix, the p_n is p_{n-1} to left shift 4 position.\n",
    "\n",
    "from sage.all import *\n",
    "\n",
    "\n",
    "# Function to perform a circular left shift on matrix columns\n",
    "def circular_left_shift(mat, shift_cols):\n",
    "    num_cols = mat.ncols()\n",
    "    shifted_columns = [mat.column((j - shift_cols) % num_cols) for j in range(num_cols)]\n",
    "    return matrix(\n",
    "        mat.base_ring(), mat.nrows(), mat.ncols(), list(zip(*shifted_columns))\n",
    "    )\n",
    "\n",
    "\n",
    "permutation_potion = [0, 5, 10, 15]\n",
    "# Define p1 as a 4x16 identification matrix\n",
    "p1 = Matrix(ZZ, 4, 16, lambda i, j: 1 if j == permutation_potion[i] else 0)\n",
    "\n",
    "# Create p2, p3, p4 by shifting p1 left by 4, 8, and 12 columns respectively\n",
    "p2 = circular_left_shift(p1, 4)\n",
    "p3 = circular_left_shift(p1, 8)\n",
    "p4 = circular_left_shift(p1, 12)\n",
    "\n",
    "# Combine p1, p2, p3, p4 vertically to form the 16x16 matrix P\n",
    "P = block_matrix(4, 1, [p1, p2, p3, p4])\n",
    "\n",
    "# Display the matrix P\n",
    "P\n",
    "print(P)\n",
    "a = vector(ZZ, [i for i in range(16)])\n",
    "b = P * a\n",
    "print(b)"
   ]
  }
 ],
 "metadata": {
  "kernelspec": {
   "display_name": "SageMath 10.2",
   "language": "sage",
   "name": "sagemath"
  },
  "language_info": {
   "codemirror_mode": {
    "name": "ipython",
    "version": 3
   },
   "file_extension": ".py",
   "mimetype": "text/x-python",
   "name": "python",
   "nbconvert_exporter": "python",
   "pygments_lexer": "ipython3",
   "version": "3.11.8"
  }
 },
 "nbformat": 4,
 "nbformat_minor": 2
}
