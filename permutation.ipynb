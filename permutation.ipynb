{
 "cells": [
  {
   "cell_type": "markdown",
   "metadata": {},
   "source": [
    "## Permutation\n",
    "\n",
    "The permutation optime is base on the the Permutation Primitive Operation (PPO) is defined as:\n",
    "$\\begin{equation}\n",
    "    PPO(R,p,m)=  (R \\ggg  p) \\land m \\tag{1}\n",
    "\\end{equation}$\n",
    "In this equation, $R$ represents the operation register on the bitsliced representation, $\\ggg$ denotes the right cyclic shift operation, $p$ is the number of shifts, $\\land$ is the bitwise AND operation, and $m$ is the mask."
   ]
  },
  {
   "cell_type": "code",
   "execution_count": 14,
   "metadata": {},
   "outputs": [
    {
     "name": "stdout",
     "output_type": "stream",
     "text": [
      "[0, 4, 13, 7, 9, 3, 12, 0, 3, 5, 10, 6, 10, 6, 11, 13]\n",
      "[(0, 0), (4, 1), (13, 2), (7, 3), (9, 4), (3, 5), (12, 6), (0, 7), (3, 8), (5, 9), (10, 10), (6, 11), (10, 12), (6, 13), (11, 14), (13, 15)]\n"
     ]
    }
   ],
   "source": [
    "# let use the tau permutation to do the example for explanation.\n",
    "tau = [0, 11, 6, 13, 10, 1, 12, 7, 5, 14, 3, 8, 15, 4, 9, 2]\n",
    "\n",
    "\n",
    "# the right cyclic shift tau\n",
    "def right_cyclic_shift(tau: list):\n",
    "\n",
    "    shift = []\n",
    "    for i in range(len(tau)):\n",
    "        if tau.index(i) >= i:\n",
    "            shift.append(tau.index(i) - i)\n",
    "        else:\n",
    "            shift.append(len(tau) - i + tau.index(i))\n",
    "    return shift\n",
    "\n",
    "\n",
    "tau_shift = right_cyclic_shift(tau)\n",
    "print(tau_shift)\n",
    "ps = [(x, i) for i, x in enumerate(tau_shift)]\n",
    "print(ps)"
   ]
  },
  {
   "cell_type": "markdown",
   "metadata": {},
   "source": [
    "## merge\n",
    "\n",
    "Given $m_1$ and $m_2$ as the masks, the following holds:\n",
    "$\\begin{equation}\n",
    "    PPO(R,p,m_1) \\lor PPO(R,p,m_2) = PPO(R,p,m_1 \\lor m_2)\\tag{2}\n",
    "\\end{equation}$\n",
    "In this equation, the symbol $\\lor$ denotes the bitwise OR operation."
   ]
  },
  {
   "cell_type": "code",
   "execution_count": 16,
   "metadata": {},
   "outputs": [
    {
     "name": "stdout",
     "output_type": "stream",
     "text": [
      "[(0, [0, 7]), (3, [5, 8]), (4, [1]), (5, [9]), (6, [11, 13]), (7, [3]), (9, [4]), (10, [10, 12]), (11, [14]), (12, [6]), (13, [2, 15])]\n"
     ]
    }
   ],
   "source": [
    "# This code snippet is used to identify certain values within the `tau_shift` list. It then records the indices of these values into a separate list. Finally, it pairs each index with its corresponding value from the `tau_shift` list.\n",
    "\n",
    "\n",
    "def merge_shift_ppo(tau_shift: list) -> list:\n",
    "    shift_ppo = []\n",
    "    # Remove duplicate elements for `tau_shift`\n",
    "    tau_shift_set = list(set(tau_shift))\n",
    "\n",
    "    for shift in tau_shift_set:\n",
    "        merge_shift = [i for i, x in enumerate(tau_shift) if x == shift]\n",
    "        shift_ppo.append((shift, merge_shift))\n",
    "    return shift_ppo\n",
    "\n",
    "\n",
    "merge_shift_ppo_result = merge_shift_ppo(tau_shift)\n",
    "print(merge_shift_ppo_result)"
   ]
  }
 ],
 "metadata": {
  "kernelspec": {
   "display_name": "misc",
   "language": "python",
   "name": "python3"
  },
  "language_info": {
   "codemirror_mode": {
    "name": "ipython",
    "version": 3
   },
   "file_extension": ".py",
   "mimetype": "text/x-python",
   "name": "python",
   "nbconvert_exporter": "python",
   "pygments_lexer": "ipython3",
   "version": "3.11.9"
  }
 },
 "nbformat": 4,
 "nbformat_minor": 2
}
