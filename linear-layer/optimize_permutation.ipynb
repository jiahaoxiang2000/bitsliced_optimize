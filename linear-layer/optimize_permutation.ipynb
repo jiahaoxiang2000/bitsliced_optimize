{
 "cells": [
  {
   "cell_type": "markdown",
   "metadata": {},
   "source": [
    "# new method to reflector.\n",
    "\n",
    "**Input:** Set of pairs $ P(p,m) $, optimization index $ n $  \n",
    "**Output:** Optimized set of pairs $ P' $\n",
    "\n",
    "1. $ P' \\leftarrow P $\n",
    "2. if $ n = \\text{Length}(P') $ then\n",
    "3. &nbsp;&nbsp;&nbsp;&nbsp;return $ P' $\n",
    "4. end if\n",
    "5. $ P'_1 \\leftarrow \\text{OPO}(P', n + 1) $\n",
    "6. if $ \\text{Split}(P'[n]) \\neq \\emptyset $ then\n",
    "7. &nbsp;&nbsp;&nbsp;&nbsp;(p1, m1), (p2, m2) $ \\leftarrow \\text{Split}(P'[n]) $\n",
    "8. &nbsp;&nbsp;&nbsp;&nbsp;$ P' \\leftarrow P' \\cup \\{(p1, m1), (p2, m2)\\} $\n",
    "9.  &nbsp;&nbsp;&nbsp;&nbsp;Delete $ P'[n] $\n",
    "10. &nbsp;&nbsp;&nbsp;&nbsp;$ P'_2 \\leftarrow \\text{OPO}(P', n) $\n",
    "11. end if\n",
    "12. return $ \\text{Better}(P'_1, P'_2) $"
   ]
  },
  {
   "cell_type": "markdown",
   "metadata": {},
   "source": [
    "first to design the operation of permutation, here use the 32-bit register, 16-cell, 2-block, for the permutation. we want let the result is the sequence operation of the shift & or & and, and have the operation register. the start register is r0, the operation temp register is r1, the result register is r14"
   ]
  },
  {
   "cell_type": "code",
   "execution_count": 8,
   "metadata": {},
   "outputs": [
    {
     "name": "stdout",
     "output_type": "stream",
     "text": [
      "[('and', 'r1', 'r0', '0x80000000'), ('ror', 'r1', 'r1', 0), ('or', 'r14', 'r14', 'r1'), ('and', 'r1', 'r0', '0x20000000'), ('ror', 'r1', 'r1', 0), ('or', 'r14', 'r14', 'r1'), ('and', 'r1', 'r0', '0x8000000'), ('ror', 'r1', 'r1', 0), ('or', 'r14', 'r14', 'r1'), ('and', 'r1', 'r0', '0x2000000'), ('ror', 'r1', 'r1', 0), ('or', 'r14', 'r14', 'r1'), ('and', 'r1', 'r0', '0x800000'), ('ror', 'r1', 'r1', 30), ('or', 'r14', 'r14', 'r1'), ('and', 'r1', 'r0', '0x200000'), ('ror', 'r1', 'r1', 30), ('or', 'r14', 'r14', 'r1'), ('and', 'r1', 'r0', '0x80000'), ('ror', 'r1', 'r1', 30), ('or', 'r14', 'r14', 'r1'), ('and', 'r1', 'r0', '0x20000'), ('ror', 'r1', 'r1', 6), ('or', 'r14', 'r14', 'r1'), ('and', 'r1', 'r0', '0x8000'), ('ror', 'r1', 'r1', 28), ('or', 'r14', 'r14', 'r1'), ('and', 'r1', 'r0', '0x2000'), ('ror', 'r1', 'r1', 28), ('or', 'r14', 'r14', 'r1'), ('and', 'r1', 'r0', '0x800'), ('ror', 'r1', 'r1', 4), ('or', 'r14', 'r14', 'r1'), ('and', 'r1', 'r0', '0x200'), ('ror', 'r1', 'r1', 4), ('or', 'r14', 'r14', 'r1'), ('and', 'r1', 'r0', '0x80'), ('ror', 'r1', 'r1', 26), ('or', 'r14', 'r14', 'r1'), ('and', 'r1', 'r0', '0x20'), ('ror', 'r1', 'r1', 2), ('or', 'r14', 'r14', 'r1'), ('and', 'r1', 'r0', '0x8'), ('ror', 'r1', 'r1', 2), ('or', 'r14', 'r14', 'r1'), ('and', 'r1', 'r0', '0x2'), ('ror', 'r1', 'r1', 2), ('or', 'r14', 'r14', 'r1')]\n",
      "48\n"
     ]
    }
   ],
   "source": [
    "# aes permutation\n",
    "permutation = [0, 1, 2, 3, 7, 4, 5, 6, 10, 11, 8, 9, 13, 14, 15, 12]\n",
    "# transform to sequence operation\n",
    "sequence = []\n",
    "\n",
    "\n",
    "def PPO(sequence, temp, origin, dest, mask, shift):\n",
    "    sequence.append((\"and\", temp, origin, hex(mask)))\n",
    "    sequence.append((\"ror\", temp, temp, shift))\n",
    "    sequence.append((\"or\", dest, dest, temp))\n",
    "\n",
    "\n",
    "for i in range(len(permutation)):\n",
    "    # first need to mask to r1,\n",
    "    # then self-shift r1, there have the ror operation, so all the shift direction is right,\n",
    "    # if the shift is left, need to use the length 32 sub the shift value.\n",
    "    # then or operation to r14\n",
    "    mask = 2 << ((15 - i) * 2)\n",
    "    distance = i - permutation.index(i)\n",
    "    shift = 2 * (distance) if distance >= 0 else 2 * (distance + 16)\n",
    "    PPO(sequence, \"r1\", \"r0\", \"r14\", mask, shift)\n",
    "print(sequence)\n",
    "print(len(sequence))\n",
    "# here is not optimal sequence, so need to optimize the sequence"
   ]
  },
  {
   "cell_type": "markdown",
   "metadata": {},
   "source": [
    "one pop operation is including the and, ror, or operation, that format `[('and', 'r1', 'r0', '0x80000000'), ('ror', 'r1', 'r1', 0), ('or', 'r14', 'r14', 'r1')]`\n",
    "\n",
    "if only the mask value is not same, then can merge the operation, merge is xor the mask value."
   ]
  },
  {
   "cell_type": "code",
   "execution_count": null,
   "metadata": {},
   "outputs": [
    {
     "name": "stdout",
     "output_type": "stream",
     "text": [
      "[('and', 'r1', 'r0', '0xaa000000'), ('ror', 'r1', 'r1', 0), ('or', 'r14', 'r14', 'r1'), ('and', 'r1', 'r0', '0xa80000'), ('ror', 'r1', 'r1', 30), ('or', 'r14', 'r14', 'r1'), ('and', 'r1', 'r0', '0x20000'), ('ror', 'r1', 'r1', 6), ('or', 'r14', 'r14', 'r1'), ('and', 'r1', 'r0', '0xa000'), ('ror', 'r1', 'r1', 28), ('or', 'r14', 'r14', 'r1'), ('and', 'r1', 'r0', '0xa00'), ('ror', 'r1', 'r1', 4), ('or', 'r14', 'r14', 'r1'), ('and', 'r1', 'r0', '0x80'), ('ror', 'r1', 'r1', 26), ('or', 'r14', 'r14', 'r1'), ('and', 'r1', 'r0', '0x2a'), ('ror', 'r1', 'r1', 2), ('or', 'r14', 'r14', 'r1')]\n",
      "21\n"
     ]
    }
   ],
   "source": [
    "def merge_sequence(sequence):\n",
    "    # Group operations by 3 (one POP = and+ror+or)\n",
    "    pops = [sequence[i : i + 3] for i in range(0, len(sequence), 3)]\n",
    "    merged = []\n",
    "    processed = set()\n",
    "\n",
    "    for i, pop1 in enumerate(pops):\n",
    "        if i in processed:\n",
    "            continue\n",
    "\n",
    "        mask1 = int(pop1[0][3], 16)  # Convert hex mask to int\n",
    "        shift1 = int(pop1[1][3])\n",
    "        current_group = [pop1]\n",
    "\n",
    "        # Find pops with different masks that can be merged\n",
    "        for j, pop2 in enumerate(pops[i + 1 :], i + 1):\n",
    "            if j in processed:\n",
    "                continue\n",
    "\n",
    "            mask2 = int(pop2[0][3], 16)\n",
    "            shift2 = int(pop2[1][3])\n",
    "            # Check if masks are different\n",
    "            if mask1 != mask2 and shift1 == shift2:\n",
    "                # Merge masks using XOR\n",
    "                mask1 ^= mask2\n",
    "                current_group.append(pop2)\n",
    "                processed.add(j)\n",
    "\n",
    "        if len(current_group) > 1:\n",
    "            # Create merged operation\n",
    "            merged.extend(\n",
    "                [\n",
    "                    (\"and\", \"r1\", \"r0\", hex(mask1)),\n",
    "                    (\"ror\", \"r1\", \"r1\", current_group[0][1][3]),\n",
    "                    (\"or\", \"r14\", \"r14\", \"r1\"),\n",
    "                ]\n",
    "            )\n",
    "        else:\n",
    "            # Keep original operation\n",
    "            merged.extend(pop1)\n",
    "\n",
    "    return merged\n",
    "\n",
    "\n",
    "merged = merge_sequence(sequence)\n",
    "print(merged)\n",
    "print(len(merged))"
   ]
  }
 ],
 "metadata": {
  "kernelspec": {
   "display_name": "misc",
   "language": "python",
   "name": "python3"
  },
  "language_info": {
   "codemirror_mode": {
    "name": "ipython",
    "version": 3
   },
   "file_extension": ".py",
   "mimetype": "text/x-python",
   "name": "python",
   "nbconvert_exporter": "python",
   "pygments_lexer": "ipython3",
   "version": "3.11.10"
  }
 },
 "nbformat": 4,
 "nbformat_minor": 2
}
