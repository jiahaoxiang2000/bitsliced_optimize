{
 "cells": [
  {
   "cell_type": "markdown",
   "metadata": {},
   "source": [
    "# new method to reflector.\n"
   ]
  },
  {
   "cell_type": "markdown",
   "metadata": {},
   "source": [
    "first to design the operation of permutation, here use the 32-bit register, 16-cell, 2-block, for the permutation. we want let the result is the sequence operation of the shift & or & and, and have the operation register. the start register is r0, the operation temp register is r1, the result register is r14"
   ]
  },
  {
   "cell_type": "code",
   "execution_count": 162,
   "metadata": {},
   "outputs": [
    {
     "name": "stdout",
     "output_type": "stream",
     "text": [
      "[('and', 'r1', 'r0', '0x80000000'), ('ror', 'r1', 'r1', 0), ('or', 'r14', 'r14', 'r1'), ('and', 'r1', 'r0', '0x20000000'), ('ror', 'r1', 'r1', 0), ('or', 'r14', 'r14', 'r1'), ('and', 'r1', 'r0', '0x8000000'), ('ror', 'r1', 'r1', 0), ('or', 'r14', 'r14', 'r1'), ('and', 'r1', 'r0', '0x2000000'), ('ror', 'r1', 'r1', 0), ('or', 'r14', 'r14', 'r1'), ('and', 'r1', 'r0', '0x800000'), ('ror', 'r1', 'r1', 30), ('or', 'r14', 'r14', 'r1'), ('and', 'r1', 'r0', '0x200000'), ('ror', 'r1', 'r1', 30), ('or', 'r14', 'r14', 'r1'), ('and', 'r1', 'r0', '0x80000'), ('ror', 'r1', 'r1', 30), ('or', 'r14', 'r14', 'r1'), ('and', 'r1', 'r0', '0x20000'), ('ror', 'r1', 'r1', 6), ('or', 'r14', 'r14', 'r1'), ('and', 'r1', 'r0', '0x8000'), ('ror', 'r1', 'r1', 28), ('or', 'r14', 'r14', 'r1'), ('and', 'r1', 'r0', '0x2000'), ('ror', 'r1', 'r1', 28), ('or', 'r14', 'r14', 'r1'), ('and', 'r1', 'r0', '0x800'), ('ror', 'r1', 'r1', 4), ('or', 'r14', 'r14', 'r1'), ('and', 'r1', 'r0', '0x200'), ('ror', 'r1', 'r1', 4), ('or', 'r14', 'r14', 'r1'), ('and', 'r1', 'r0', '0x80'), ('ror', 'r1', 'r1', 26), ('or', 'r14', 'r14', 'r1'), ('and', 'r1', 'r0', '0x20'), ('ror', 'r1', 'r1', 2), ('or', 'r14', 'r14', 'r1'), ('and', 'r1', 'r0', '0x8'), ('ror', 'r1', 'r1', 2), ('or', 'r14', 'r14', 'r1'), ('and', 'r1', 'r0', '0x2'), ('ror', 'r1', 'r1', 2), ('or', 'r14', 'r14', 'r1')]\n",
      "48\n"
     ]
    }
   ],
   "source": [
    "# aes permutation\n",
    "permutation = [0, 1, 2, 3, 7, 4, 5, 6, 10, 11, 8, 9, 13, 14, 15, 12]\n",
    "# transform to sequence operation\n",
    "sequence = []\n",
    "\n",
    "\n",
    "def PPO(sequence, temp, origin, dest, mask, shift):\n",
    "    sequence.append((\"and\", temp, origin, hex(mask)))\n",
    "    sequence.append((\"ror\", temp, temp, shift))\n",
    "    sequence.append((\"or\", dest, dest, temp))\n",
    "\n",
    "\n",
    "for i in range(len(permutation)):\n",
    "    # first need to mask to r1,\n",
    "    # then self-shift r1, there have the ror operation, so all the shift direction is right,\n",
    "    # if the shift is left, need to use the length 32 sub the shift value.\n",
    "    # then or operation to r14\n",
    "    mask = 2 << ((15 - i) * 2)\n",
    "    distance = i - permutation.index(i)\n",
    "    shift = 2 * (distance) if distance >= 0 else 2 * (distance + 16)\n",
    "    PPO(sequence, \"r1\", \"r0\", \"r14\", mask, shift)\n",
    "print(sequence)\n",
    "print(len(sequence))\n",
    "# here is not optimal sequence, so need to optimize the sequence"
   ]
  },
  {
   "cell_type": "markdown",
   "metadata": {},
   "source": [
    "one pop operation is including the and, ror, or operation, that format `[('and', 'r1', 'r0', '0x80000000'), ('ror', 'r1', 'r1', 0), ('or', 'r14', 'r14', 'r1')]`\n",
    "\n",
    "if only the mask value is not same, then can merge the operation, merge is xor the mask value."
   ]
  },
  {
   "cell_type": "code",
   "execution_count": 163,
   "metadata": {},
   "outputs": [
    {
     "name": "stdout",
     "output_type": "stream",
     "text": [
      "[('and', 'r1', 'r0', '0xaa000000'), ('ror', 'r1', 'r1', 0), ('or', 'r14', 'r14', 'r1'), ('and', 'r1', 'r0', '0xa80000'), ('ror', 'r1', 'r1', 30), ('or', 'r14', 'r14', 'r1'), ('and', 'r1', 'r0', '0x20000'), ('ror', 'r1', 'r1', 6), ('or', 'r14', 'r14', 'r1'), ('and', 'r1', 'r0', '0xa000'), ('ror', 'r1', 'r1', 28), ('or', 'r14', 'r14', 'r1'), ('and', 'r1', 'r0', '0xa00'), ('ror', 'r1', 'r1', 4), ('or', 'r14', 'r14', 'r1'), ('and', 'r1', 'r0', '0x80'), ('ror', 'r1', 'r1', 26), ('or', 'r14', 'r14', 'r1'), ('and', 'r1', 'r0', '0x2a'), ('ror', 'r1', 'r1', 2), ('or', 'r14', 'r14', 'r1')]\n",
      "21\n"
     ]
    }
   ],
   "source": [
    "def merge_sequence(sequence):\n",
    "    # Group operations by 3 (one POP = and+ror+or)\n",
    "    pops = [sequence[i : i + 3] for i in range(0, len(sequence), 3)]\n",
    "    merged = []\n",
    "    processed = set()\n",
    "\n",
    "    for i, pop1 in enumerate(pops):\n",
    "        if i in processed:\n",
    "            continue\n",
    "\n",
    "        mask1 = int(pop1[0][3], 16)  # Convert hex mask to int\n",
    "        shift1 = int(pop1[1][3])\n",
    "        current_group = [pop1]\n",
    "\n",
    "        # Find pops with different masks that can be merged\n",
    "        for j, pop2 in enumerate(pops[i + 1 :], i + 1):\n",
    "            if j in processed:\n",
    "                continue\n",
    "\n",
    "            mask2 = int(pop2[0][3], 16)\n",
    "            shift2 = int(pop2[1][3])\n",
    "            # Check if masks are different\n",
    "            if mask1 != mask2 and shift1 == shift2:\n",
    "                # Merge masks using XOR\n",
    "                mask1 ^= mask2\n",
    "                current_group.append(pop2)\n",
    "                processed.add(j)\n",
    "\n",
    "        if len(current_group) > 1:\n",
    "            # Create merged operation\n",
    "            merged.extend(\n",
    "                [\n",
    "                    (\"and\", \"r1\", \"r0\", hex(mask1)),\n",
    "                    (\"ror\", \"r1\", \"r1\", current_group[0][1][3]),\n",
    "                    (\"or\", \"r14\", \"r14\", \"r1\"),\n",
    "                ]\n",
    "            )\n",
    "        else:\n",
    "            # Keep original operation\n",
    "            merged.extend(pop1)\n",
    "\n",
    "    return merged\n",
    "\n",
    "\n",
    "merged = merge_sequence(sequence)\n",
    "print(merged)\n",
    "print(len(merged))"
   ]
  },
  {
   "cell_type": "code",
   "execution_count": 164,
   "metadata": {},
   "outputs": [
    {
     "name": "stdout",
     "output_type": "stream",
     "text": [
      "[('and', 'r1', 'r0', '0xaa000000'), ('ror', 'r1', 'r1', 0), ('or', 'r14', 'r14', 'r1'), ('and', 'r1', 'r0', '0xa80000'), ('ror', 'r1', 'r1', 30), ('or', 'r14', 'r14', 'r1'), ('and', 'r1', 'r0', '0x20000'), ('ror', 'r1', 'r1', 6), ('or', 'r14', 'r14', 'r1'), ('and', 'r1', 'r0', '0xa000'), ('ror', 'r1', 'r1', 28), ('or', 'r14', 'r14', 'r1'), ('and', 'r1', 'r0', '0xa00'), ('ror', 'r1', 'r1', 4), ('or', 'r14', 'r14', 'r1'), ('and', 'r1', 'r0', '0x80'), ('ror', 'r1', 'r1', 26), ('or', 'r14', 'r14', 'r1'), ('and', 'r1', 'r0', '0x2a'), ('ror', 'r1', 'r1', 2), ('or', 'r14', 'r14', 'r1')]\n",
      "21\n"
     ]
    }
   ],
   "source": [
    "class PPO:\n",
    "    def __init__(self, temp, origin, dest, mask, shift):\n",
    "        self.temp = temp\n",
    "        self.origin = origin\n",
    "        self.dest = dest\n",
    "        self.mask = mask\n",
    "        self.shift = shift\n",
    "\n",
    "    def __eq__(self, value: \"PPO\") -> bool:\n",
    "        return (\n",
    "            self.temp == value.temp\n",
    "            and self.origin == value.origin\n",
    "            and self.dest == value.dest\n",
    "            and self.mask == value.mask\n",
    "            and self.shift == value.shift\n",
    "        )\n",
    "\n",
    "    def toList(self):\n",
    "        \"\"\"Convert PPO operation to sequence list\"\"\"\n",
    "        return [\n",
    "            (\"and\", self.temp, self.origin, hex(self.mask)),\n",
    "            (\"ror\", self.temp, self.temp, self.shift),\n",
    "            (\"or\", self.dest, self.dest, self.temp),\n",
    "        ]\n",
    "\n",
    "    @staticmethod\n",
    "    def merge(ppo_list):\n",
    "        \"\"\"Merge PPOs with different masks using XOR, when the all the other parameters are the same\"\"\"\n",
    "        merged = []\n",
    "        processed = set()\n",
    "\n",
    "        for i, ppo1 in enumerate(ppo_list):\n",
    "            if i in processed:\n",
    "                continue\n",
    "\n",
    "            mask = ppo1.mask\n",
    "            current_group = [ppo1]\n",
    "\n",
    "            for j, ppo2 in enumerate(ppo_list[i + 1 :], i + 1):\n",
    "                if j in processed:\n",
    "                    continue\n",
    "\n",
    "                if (\n",
    "                    mask != ppo2.mask\n",
    "                    and ppo1.shift == ppo2.shift\n",
    "                    and ppo1.temp == ppo2.temp\n",
    "                    and ppo1.origin == ppo2.origin\n",
    "                    and ppo1.dest == ppo2.dest\n",
    "                ):\n",
    "                    mask ^= ppo2.mask\n",
    "                    current_group.append(ppo2)\n",
    "                    processed.add(j)\n",
    "\n",
    "            if len(current_group) > 1:\n",
    "                merged.append(\n",
    "                    PPO(\n",
    "                        current_group[0].temp,\n",
    "                        current_group[0].origin,\n",
    "                        current_group[0].dest,\n",
    "                        mask,\n",
    "                        current_group[0].shift,\n",
    "                    )\n",
    "                )\n",
    "            else:\n",
    "                merged.append(ppo1)\n",
    "\n",
    "        return merged\n",
    "\n",
    "\n",
    "# aes permutation\n",
    "permutation = [0, 1, 2, 3, 7, 4, 5, 6, 10, 11, 8, 9, 13, 14, 15, 12]\n",
    "# transform to sequence operation\n",
    "sequence = []\n",
    "for i in range(len(permutation)):\n",
    "    # first need to mask to r1,\n",
    "    # then self-shift r1, there have the ror operation, so all the shift direction is right,\n",
    "    # if the shift is left, need to use the length 32 sub the shift value.\n",
    "    # then or operation to r14\n",
    "    mask = 2 << ((15 - i) * 2)\n",
    "    distance = i - permutation.index(i)\n",
    "    shift = 2 * (distance) if distance >= 0 else 2 * (distance + 16)\n",
    "    sequence.append(PPO(\"r1\", \"r0\", \"r14\", mask, shift))\n",
    "\n",
    "sequence = PPO.merge(sequence)\n",
    "merged = []\n",
    "for ppo in sequence:\n",
    "    merged.extend(ppo.toList())\n",
    "print(merged)\n",
    "print(len(merged))"
   ]
  },
  {
   "cell_type": "code",
   "execution_count": 165,
   "metadata": {},
   "outputs": [
    {
     "name": "stdout",
     "output_type": "stream",
     "text": [
      "[('and', 'r1', 'r0', '0xaa000000'), ('ror', 'r1', 'r1', 0), ('or', 'r14', 'r14', 'r1'), ('and', 'r1', 'r0', '0xa80000'), ('ror', 'r1', 'r1', 30), ('or', 'r14', 'r14', 'r1'), ('and', 'r1', 'r0', '0x20000'), ('ror', 'r1', 'r1', 6), ('or', 'r14', 'r14', 'r1'), ('and', 'r1', 'r0', '0xa000'), ('ror', 'r1', 'r1', 28), ('or', 'r14', 'r14', 'r1'), ('and', 'r1', 'r0', '0xa00'), ('ror', 'r1', 'r1', 4), ('or', 'r14', 'r14', 'r1'), ('and', 'r1', 'r0', '0x80'), ('ror', 'r1', 'r1', 26), ('or', 'r14', 'r14', 'r1'), ('and', 'r1', 'r0', '0x2a'), ('ror', 'r1', 'r1', 2), ('or', 'r14', 'r14', 'r1')]\n",
      "21\n"
     ]
    }
   ],
   "source": [
    "def print_sequence(sequence):\n",
    "    \"\"\"\n",
    "    Print assembly-like sequence in standard format.\n",
    "    Each operation on new line with proper indentation.\n",
    "    \"\"\"\n",
    "    merged = []\n",
    "    for ppo in sequence:\n",
    "        if isinstance(ppo, PPO):\n",
    "            merged.extend(ppo.toList())\n",
    "        else:\n",
    "            merged.append(ppo)\n",
    "    print(merged)\n",
    "    print(len(merged))\n",
    "\n",
    "\n",
    "print_sequence(sequence)"
   ]
  },
  {
   "cell_type": "code",
   "execution_count": 166,
   "metadata": {},
   "outputs": [
    {
     "name": "stdout",
     "output_type": "stream",
     "text": [
      "[('and', 'r1', 'r0', '0xaa000000'), ('ror', 'r1', 'r1', 0), ('or', 'r14', 'r14', 'r1'), ('and', 'r1', 'r0', '0x2a'), ('ror', 'r1', 'r1', 2), ('or', 'r14', 'r14', 'r1'), ('and', 'r1', 'r0', '0xa00'), ('ror', 'r1', 'r1', 4), ('or', 'r14', 'r14', 'r1'), ('and', 'r1', 'r0', '0x20000'), ('ror', 'r1', 'r1', 6), ('or', 'r14', 'r14', 'r1'), ('and', 'r1', 'r0', '0x80'), ('ror', 'r1', 'r1', 26), ('or', 'r14', 'r14', 'r1'), ('and', 'r1', 'r0', '0xa000'), ('ror', 'r1', 'r1', 28), ('or', 'r14', 'r14', 'r1'), ('and', 'r1', 'r0', '0xa80000'), ('ror', 'r1', 'r1', 30), ('or', 'r14', 'r14', 'r1')]\n",
      "21\n"
     ]
    }
   ],
   "source": [
    "def sort_sequence(sequence):\n",
    "    \"\"\"\n",
    "    Sort sequence by operation type OPP.shift.\n",
    "    \"\"\"\n",
    "    return sorted(sequence, key=lambda x: x.shift)\n",
    "\n",
    "\n",
    "sequence = sort_sequence(sequence)\n",
    "print_sequence(sequence)"
   ]
  },
  {
   "cell_type": "code",
   "execution_count": 167,
   "metadata": {},
   "outputs": [
    {
     "name": "stdout",
     "output_type": "stream",
     "text": [
      "True\n"
     ]
    }
   ],
   "source": [
    "p1 = PPO(\"r1\", \"r0\", \"r14\", 0x80000000, 0)\n",
    "p2 = PPO(\"r1\", \"r0\", \"r14\", 0x80000000, 0)\n",
    "print(p1 == p2)  # True"
   ]
  },
  {
   "cell_type": "code",
   "execution_count": 168,
   "metadata": {},
   "outputs": [
    {
     "name": "stdout",
     "output_type": "stream",
     "text": [
      "Split 3 into (1, 2)\n"
     ]
    }
   ],
   "source": [
    "# here we need to split the PPO\n",
    "# if the sequence[n] PPO0 is can split to PPO1 and PPO2, then split it, here condition need statisfied:\n",
    "# 1. the PPO1 and PPO2 index on the sequence is lower than n, PPO1 < PPO2 < n.\n",
    "# 2. the PPO1.shift+PPO2.shift = PPO0.shift\n",
    "# 3. the PPO1.mask&(PPO0.mask) = 0, the PPO2.mask&(rotation_shift_right_32bit(PPO0.mask)) = 0\n",
    "# if the condition is statisfied, then split the PPO0 to PPO1 and PPO2, return the pair of PPO1 and PPO2 index.\n",
    "# else return None\n",
    "\n",
    "\n",
    "def rotation_shift_right_32bit(value, shift):\n",
    "    # Handle 32-bit right rotation\n",
    "    return ((value >> shift) | (value << (32 - shift))) & 0xFFFFFFFF\n",
    "\n",
    "\n",
    "def split(sequence: list[\"PPO\"], n):\n",
    "    \"\"\"\n",
    "    Try to split PPO0 at index n into PPO1 and PPO2 from earlier in sequence.\n",
    "\n",
    "    Args:\n",
    "        sequence: List of PPO objects\n",
    "        n: Index of PPO0 to try splitting\n",
    "\n",
    "    Returns:\n",
    "        Tuple of (idx1, idx2) if split possible, None otherwise\n",
    "    \"\"\"\n",
    "\n",
    "    ppo0 = sequence[n]\n",
    "    mask0 = ppo0.mask\n",
    "    shift0 = ppo0.shift\n",
    "\n",
    "    # Check all possible pairs before index n\n",
    "    for i in range(n):\n",
    "        for j in range(i + 1, n):\n",
    "            ppo1 = sequence[i]\n",
    "            ppo2 = sequence[j]\n",
    "\n",
    "            # Condition 1: PPO1 < PPO2 < n (already satisfied by loop structure)\n",
    "\n",
    "            # Condition 2: shifts sum up\n",
    "            if ppo1.shift + ppo2.shift != shift0:\n",
    "                continue\n",
    "\n",
    "            # Condition 3: mask conditions\n",
    "            mask1 = ppo1.mask\n",
    "            mask2 = ppo2.mask\n",
    "\n",
    "            # Check first mask condition\n",
    "            if mask1 & mask0 != 0:\n",
    "                continue\n",
    "\n",
    "            # Check second mask condition with rotation\n",
    "            rotated_mask0 = rotation_shift_right_32bit(mask1 | mask0, ppo1.shift)\n",
    "            if mask2 & rotated_mask0 != 0:\n",
    "                continue\n",
    "\n",
    "            # All conditions satisfied\n",
    "            return (i, j)\n",
    "\n",
    "    return None\n",
    "\n",
    "\n",
    "for i in range(len(sequence)):\n",
    "    split_idx = split(sequence, i)\n",
    "    if split_idx:\n",
    "\n",
    "        print(f\"Split {i} into {split_idx}\")\n",
    "        break"
   ]
  },
  {
   "cell_type": "markdown",
   "metadata": {},
   "source": [
    "## OPO algorithm\n",
    "\n",
    "**Input:** Set of pairs $ P(p,m) $, optimization index $ n $  \n",
    "**Output:** Optimized set of pairs $ P' $\n",
    "\n",
    "1. $ P' \\leftarrow P $\n",
    "2. if $ n = \\text{Length}(P') $ then\n",
    "3. &nbsp;&nbsp;&nbsp;&nbsp;return $ P' $\n",
    "4. end if\n",
    "5. $ P'_1 \\leftarrow \\text{OPO}(P', n + 1) $\n",
    "6. if $ \\text{Split}(P'[n]) \\neq \\emptyset $ then\n",
    "7. &nbsp;&nbsp;&nbsp;&nbsp;(p1, m1), (p2, m2) $ \\leftarrow \\text{Split}(P'[n]) $\n",
    "8. &nbsp;&nbsp;&nbsp;&nbsp;$ P' \\leftarrow P' \\cup \\{(p1, m1), (p2, m2)\\} $\n",
    "9.  &nbsp;&nbsp;&nbsp;&nbsp;Delete $ P'[n] $\n",
    "10. &nbsp;&nbsp;&nbsp;&nbsp;$ P'_2 \\leftarrow \\text{OPO}(P', n) $\n",
    "11. end if\n",
    "12. return $ \\text{Better}(P'_1, P'_2) $"
   ]
  },
  {
   "cell_type": "code",
   "execution_count": 172,
   "metadata": {},
   "outputs": [
    {
     "name": "stdout",
     "output_type": "stream",
     "text": [
      "[('and', 'r1', 'r0', '0xaa000000'), ('ror', 'r1', 'r1', 0), ('or', 'r14', 'r14', 'r1'), ('and', 'r1', 'r0', '0x2a02a'), ('ror', 'r1', 'r1', 2), ('or', 'd0', 'd0', 'r1'), ('and', 'r1|d0', 'r0', '0x8a00'), ('ror', 'r1|d0', 'r1|d0', 4), ('or', 'r14', 'r14', 'r1|d0'), ('and', 'r1|d0', 'r0', '0x2880'), ('ror', 'r1|d0', 'r1|d0', 26), ('or', 'r14', 'r14', 'r1|d0'), ('and', 'r1', 'r0', '0xa80000'), ('ror', 'r1', 'r1', 30), ('or', 'r14', 'r14', 'r1')]\n",
      "15\n"
     ]
    }
   ],
   "source": [
    "temp_register_number = 0\n",
    "\n",
    "\n",
    "def OPO(P: list[PPO], n: int) -> list[PPO]:\n",
    "    \"\"\"\n",
    "    Optimize permutation operations using the OPO algorithm.\n",
    "\n",
    "    Args:\n",
    "        P: List of PPO objects\n",
    "        n: Current optimization index\n",
    "\n",
    "    Returns:\n",
    "        Optimized list of PPO objects\n",
    "    \"\"\"\n",
    "    # 1. Make copy of input sequence\n",
    "    # true copy, not reference\n",
    "    P_prime = []\n",
    "    for i in range(len(P)):\n",
    "        P_prime.append(PPO(P[i].temp, P[i].origin, P[i].dest, P[i].mask, P[i].shift))\n",
    "\n",
    "    # 2-4. Base case: reached end of sequence\n",
    "    if n == len(P_prime):\n",
    "        return P_prime\n",
    "\n",
    "    # 5. Recursive optimization of remaining sequence\n",
    "    P_prime1 = OPO(P_prime, n + 1)\n",
    "\n",
    "    # 6. Try splitting current operation\n",
    "    split_result = split(P_prime, n)\n",
    "    if split_result is not None:\n",
    "        # 7-9. Get split operations and update sequence\n",
    "        i, j = split_result\n",
    "        p0 = P_prime[n]\n",
    "        p1, p2 = P_prime[i], P_prime[j]\n",
    "        global temp_register_number\n",
    "\n",
    "        p1.mask |= p0.mask\n",
    "        is_add = 0\n",
    "        # here temp register have optime space, when the temp register not depend on the other PPO, then can reuse it.\n",
    "        if p1.dest == \"r14\":\n",
    "            p1.dest = f\"d{temp_register_number}\"\n",
    "            temp_register_number += 1\n",
    "            is_add = 1\n",
    "        m1 = rotation_shift_right_32bit(p0.mask, p1.shift)\n",
    "        p2.mask |= m1\n",
    "        p2.temp = p2.temp + f\"|{p1.dest}\"\n",
    "\n",
    "        # Create new sequence with split operations\n",
    "        P_prime2 = []\n",
    "        for k in range(len(P_prime)):\n",
    "            P_prime2.append(\n",
    "                PPO(\n",
    "                    P_prime[k].temp,\n",
    "                    P_prime[k].origin,\n",
    "                    P_prime[k].dest,\n",
    "                    P_prime[k].mask,\n",
    "                    P_prime[k].shift,\n",
    "                )\n",
    "            )\n",
    "        P_prime2.pop(n)  # Delete original operation\n",
    "\n",
    "        # 10. Recursive optimization with split sequence\n",
    "        P_prime2 = OPO(P_prime2, n)\n",
    "\n",
    "        if is_add:\n",
    "            temp_register_number -= 1\n",
    "\n",
    "        # 12. Return better sequence\n",
    "        return better(P_prime1, P_prime2)\n",
    "\n",
    "    # If no split possible, return sequence from step 5\n",
    "    return P_prime1\n",
    "\n",
    "\n",
    "def better(P1: list[PPO], P2: list[PPO]) -> list[PPO]:\n",
    "    \"\"\"\n",
    "    Compare two sequences and return the better one.\n",
    "    Currently uses sequence length as metric.\n",
    "    \"\"\"\n",
    "    return P1 if len(P1) <= len(P2) else P2\n",
    "\n",
    "\n",
    "# Example usage:\n",
    "optimized_sequence = OPO(sequence, 0)\n",
    "print_sequence(optimized_sequence)"
   ]
  },
  {
   "cell_type": "code",
   "execution_count": 173,
   "metadata": {},
   "outputs": [
    {
     "name": "stdout",
     "output_type": "stream",
     "text": [
      "sequence\n",
      "r1 r0 r14 0xaa000000 0\n",
      "r1 r0 r14 0x2a 2\n",
      "r1 r0 r14 0xa00 4\n",
      "r1 r0 r14 0x20000 6\n",
      "r1 r0 r14 0x80 26\n",
      "r1 r0 r14 0xa000 28\n",
      "r1 r0 r14 0xa80000 30\n",
      "optimized_sequence\n",
      "r1 r0 r14 0xaa000000 0\n",
      "r1 r0 d0 0x2a02a 2\n",
      "r1|d0 r0 r14 0x8a00 4\n",
      "r1|d0 r0 r14 0x2880 26\n",
      "r1 r0 r14 0xa80000 30\n"
     ]
    }
   ],
   "source": [
    "print(\"sequence\")\n",
    "for i in sequence:\n",
    "    print(i.temp, i.origin, i.dest, hex(i.mask), i.shift)\n",
    "print(\"optimized_sequence\")\n",
    "for i in optimized_sequence:\n",
    "    print(i.temp, i.origin, i.dest, hex(i.mask), i.shift)"
   ]
  }
 ],
 "metadata": {
  "kernelspec": {
   "display_name": "misc",
   "language": "python",
   "name": "python3"
  },
  "language_info": {
   "codemirror_mode": {
    "name": "ipython",
    "version": 3
   },
   "file_extension": ".py",
   "mimetype": "text/x-python",
   "name": "python",
   "nbconvert_exporter": "python",
   "pygments_lexer": "ipython3",
   "version": "3.11.10"
  }
 },
 "nbformat": 4,
 "nbformat_minor": 2
}
