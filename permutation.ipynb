{
 "cells": [
  {
   "cell_type": "markdown",
   "metadata": {},
   "source": [
    "## Permutation\n",
    "\n",
    "The permutation optime is base on the the Permutation Primitive Operation (PPO) is defined as:\n",
    "$\\begin{equation}\n",
    "    PPO(R,p,m)=  (R \\ggg  p) \\land m \\tag{1}\n",
    "\\end{equation}$\n",
    "In this equation, $R$ represents the operation register on the bitsliced representation, $\\ggg$ denotes the right cyclic shift operation, $p$ is the number of shifts, $\\land$ is the bitwise AND operation, and $m$ is the mask."
   ]
  },
  {
   "cell_type": "code",
   "execution_count": 1,
   "metadata": {},
   "outputs": [
    {
     "name": "stdout",
     "output_type": "stream",
     "text": [
      "[0, 4, 13, 7, 9, 3, 12, 0, 3, 5, 10, 6, 10, 6, 11, 13]\n",
      "[(0, 0), (4, 1), (13, 2), (7, 3), (9, 4), (3, 5), (12, 6), (0, 7), (3, 8), (5, 9), (10, 10), (6, 11), (10, 12), (6, 13), (11, 14), (13, 15)]\n"
     ]
    }
   ],
   "source": [
    "# let use the tau permutation to do the example for explanation.\n",
    "tau = [0, 11, 6, 13, 10, 1, 12, 7, 5, 14, 3, 8, 15, 4, 9, 2]\n",
    "\n",
    "\n",
    "# the right cyclic shift tau\n",
    "def right_cyclic_shift(tau: list):\n",
    "\n",
    "    shift = []\n",
    "    for i in range(len(tau)):\n",
    "        if tau.index(i) >= i:\n",
    "            shift.append(tau.index(i) - i)\n",
    "        else:\n",
    "            shift.append(len(tau) - i + tau.index(i))\n",
    "    return shift\n",
    "\n",
    "\n",
    "tau_shift = right_cyclic_shift(tau)\n",
    "print(tau_shift)\n",
    "ps = [(x, i) for i, x in enumerate(tau_shift)]\n",
    "print(ps)"
   ]
  },
  {
   "cell_type": "markdown",
   "metadata": {},
   "source": [
    "## merge\n",
    "\n",
    "Given $m_1$ and $m_2$ as the masks, the following holds:\n",
    "$\\begin{equation}\n",
    "    PPO(R,p,m_1) \\lor PPO(R,p,m_2) = PPO(R,p,m_1 \\lor m_2)\\tag{2}\n",
    "\\end{equation}$\n",
    "In this equation, the symbol $\\lor$ denotes the bitwise OR operation."
   ]
  },
  {
   "cell_type": "code",
   "execution_count": 2,
   "metadata": {},
   "outputs": [
    {
     "name": "stdout",
     "output_type": "stream",
     "text": [
      "[(0, [0, 7]), (3, [5, 8]), (4, [1]), (5, [9]), (6, [11, 13]), (7, [3]), (9, [4]), (10, [10, 12]), (11, [14]), (12, [6]), (13, [2, 15])]\n"
     ]
    }
   ],
   "source": [
    "# This code snippet is used to identify certain values within the `tau_shift` list. It then records the indices of these values into a separate list. Finally, it pairs each index with its corresponding value from the `tau_shift` list.\n",
    "\n",
    "\n",
    "def merge_shift_ppo(tau_shift: list) -> list:\n",
    "    shift_ppo = []\n",
    "    # Remove duplicate elements for `tau_shift`\n",
    "    tau_shift_set = list(set(tau_shift))\n",
    "\n",
    "    for shift in tau_shift_set:\n",
    "        merge_shift = [i for i, x in enumerate(tau_shift) if x == shift]\n",
    "        shift_ppo.append((shift, merge_shift))\n",
    "    return shift_ppo\n",
    "\n",
    "\n",
    "merge_shift_ppo_result = merge_shift_ppo(tau_shift)\n",
    "print(merge_shift_ppo_result)"
   ]
  },
  {
   "cell_type": "markdown",
   "metadata": {},
   "source": [
    "## spilt\n",
    "\n",
    " Let $p$, $p_1$, and $p_2$ be the number of shifts, and let $m_1 = m \\lll p_2$, where $p=p_1+p_2$ and $\\lll$ represents the left cyclic shift. Then, the following equation holds:\n",
    "$\\begin{equation}\n",
    "    PPO(R,p ,m) = PPO(PPO(R,p_1,m_1),p_2,m) \\tag{3}\n",
    "\\end{equation}$"
   ]
  },
  {
   "cell_type": "code",
   "execution_count": 35,
   "metadata": {},
   "outputs": [
    {
     "name": "stdout",
     "output_type": "stream",
     "text": [
      "{13: [2, 15], 12: [6], 11: [14], 10: [10, 12], 9: [4], 7: [3], 6: [11, 13], 5: [9], 4: [1], 3: [5, 8]}\n"
     ]
    }
   ],
   "source": [
    "# preprocess the merge_shift_ppo_result by the dictionary\n",
    "merge_shift_ppo_result.reverse()\n",
    "merge_ppo = {t[0]: t[1] for t in merge_shift_ppo_result}\n",
    "merge_ppo.pop(0)  # remove the 0 shift\n",
    "print(merge_ppo)"
   ]
  },
  {
   "cell_type": "code",
   "execution_count": 54,
   "metadata": {},
   "outputs": [
    {
     "name": "stdout",
     "output_type": "stream",
     "text": [
      "{9: [4, 6, 2, 15], 6: [11, 13, 10, 12, 14], 5: [9, 14], 4: [1, 3, 10, 12, 2, 15], 3: [5, 8, 3, 6]}\n"
     ]
    }
   ],
   "source": [
    "def split_ppo(split: dict, no_split: dict) -> dict:\n",
    "    if len(no_split) == 0:\n",
    "        return split\n",
    "    temp_no_split = dict(no_split)\n",
    "    temp_split = dict(split)\n",
    "    # no sure split the element is mean goal optimal, so for traversal the element on split and no_split\n",
    "    shift, positions = temp_no_split.popitem()\n",
    "\n",
    "    # not split the element\n",
    "    no_split_list = split_ppo({shift: positions, **temp_split}, {**temp_no_split})\n",
    "    split_list = no_split_list\n",
    "    # split the element\n",
    "    # 1. get the keys of the temp_split\n",
    "    shifts = list(temp_split.keys())\n",
    "    shifts.reverse()\n",
    "    # 2. let the shift split to the tow element sum of the shifts, the shifts is increasing order\n",
    "    for i in range(0, len(shifts) - 1):\n",
    "        for j in range(i + 1, len(shifts)):\n",
    "            if shifts[i] + shifts[j] == shift:\n",
    "                # split the element\n",
    "                temp_split[shifts[i]] = temp_split[shifts[i]] + positions\n",
    "                temp_split[shifts[j]] = temp_split[shifts[j]] + positions\n",
    "                split_list = split_ppo({**temp_split}, {**temp_no_split})\n",
    "    return no_split_list if len(no_split_list) < len(split_list) else split_list\n",
    "\n",
    "\n",
    "split_ppo_result = {}\n",
    "split = split_ppo(split_ppo_result, merge_ppo)\n",
    "print(split)"
   ]
  },
  {
   "cell_type": "code",
   "execution_count": 57,
   "metadata": {},
   "outputs": [
    {
     "name": "stdout",
     "output_type": "stream",
     "text": [
      "[(3, [5, 8, 3, 6]), (4, [1, 3, 10, 12, 2, 15]), (5, [9, 14]), (6, [11, 13, 10, 12, 14]), (9, [4, 6, 2, 15])]\n"
     ]
    }
   ],
   "source": [
    "# transform the split result to the list\n",
    "split_list = []\n",
    "for shift, positions in split.items():\n",
    "    split_list.append((shift, positions))\n",
    "split_list.reverse()\n",
    "print(split_list)"
   ]
  }
 ],
 "metadata": {
  "kernelspec": {
   "display_name": "misc",
   "language": "python",
   "name": "python3"
  },
  "language_info": {
   "codemirror_mode": {
    "name": "ipython",
    "version": 3
   },
   "file_extension": ".py",
   "mimetype": "text/x-python",
   "name": "python",
   "nbconvert_exporter": "python",
   "pygments_lexer": "ipython3",
   "version": "3.11.9"
  }
 },
 "nbformat": 4,
 "nbformat_minor": 2
}
